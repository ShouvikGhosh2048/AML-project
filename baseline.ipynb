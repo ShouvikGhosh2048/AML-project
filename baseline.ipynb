{
 "cells": [
  {
   "cell_type": "code",
   "execution_count": 30,
   "metadata": {},
   "outputs": [],
   "source": [
    "import os\n",
    "import cv2\n",
    "import numpy as np\n",
    "from random import shuffle, seed\n",
    "\n",
    "images = []\n",
    "\n",
    "for dir in os.listdir('Images'):\n",
    "    dir_images = []\n",
    "    for file in os.listdir('Images/' + dir):\n",
    "        img = cv2.imread('Images/' + dir + '/' + file)\n",
    "        img = cv2.resize(img, (50,50)) # Resize all images to the same size\n",
    "        img = np.flip(img, 2) # cv2 uses BGR, we convert the image to RGB\n",
    "        dir_images.append(img)\n",
    "    images.append(dir_images)\n",
    "\n",
    "dataset = []\n",
    "for i, dir in enumerate(images):\n",
    "    for img in dir:\n",
    "        dataset.append((img.flatten()/255.0, i)) # Convert image to a 1-D vector and scale pixel values to 0-1\n",
    "\n",
    "seed(0)\n",
    "shuffle(dataset)\n",
    "\n",
    "train = dataset[:int(len(dataset) * 0.6)]\n",
    "validation = dataset[int(len(dataset) * 0.6):int(len(dataset) * 0.8)]\n",
    "test = dataset[int(len(dataset) * 0.8):]\n",
    "\n",
    "train_x = [x for (x, _) in train]\n",
    "train_y = [y for (_, y) in train]\n",
    "\n",
    "validation_x = [x for (x, _) in validation]\n",
    "validation_y = [y for (_, y) in validation]"
   ]
  },
  {
   "cell_type": "code",
   "execution_count": 31,
   "metadata": {},
   "outputs": [
    {
     "data": {
      "text/plain": [
       "0.06292517006802721"
      ]
     },
     "execution_count": 31,
     "metadata": {},
     "output_type": "execute_result"
    }
   ],
   "source": [
    "from sklearn.svm import SVC\n",
    "\n",
    "clf = SVC(max_iter=2000)\n",
    "clf.fit(train_x, train_y)\n",
    "clf.score(validation_x, validation_y)"
   ]
  }
 ],
 "metadata": {
  "kernelspec": {
   "display_name": "Python 3",
   "language": "python",
   "name": "python3"
  },
  "language_info": {
   "codemirror_mode": {
    "name": "ipython",
    "version": 3
   },
   "file_extension": ".py",
   "mimetype": "text/x-python",
   "name": "python",
   "nbconvert_exporter": "python",
   "pygments_lexer": "ipython3",
   "version": "3.11.1"
  },
  "orig_nbformat": 4
 },
 "nbformat": 4,
 "nbformat_minor": 2
}
